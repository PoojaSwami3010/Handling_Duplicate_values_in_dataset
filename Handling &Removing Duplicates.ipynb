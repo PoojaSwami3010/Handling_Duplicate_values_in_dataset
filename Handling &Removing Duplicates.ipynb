{
 "cells": [
  {
   "cell_type": "markdown",
   "metadata": {},
   "source": [
    "# Handling and removing duplicates values"
   ]
  },
  {
   "cell_type": "code",
   "execution_count": 1,
   "metadata": {},
   "outputs": [],
   "source": [
    "# importing required packages\n",
    "import pandas as pd"
   ]
  },
  {
   "cell_type": "code",
   "execution_count": 3,
   "metadata": {},
   "outputs": [
    {
     "data": {
      "text/html": [
       "<div>\n",
       "<style scoped>\n",
       "    .dataframe tbody tr th:only-of-type {\n",
       "        vertical-align: middle;\n",
       "    }\n",
       "\n",
       "    .dataframe tbody tr th {\n",
       "        vertical-align: top;\n",
       "    }\n",
       "\n",
       "    .dataframe thead th {\n",
       "        text-align: right;\n",
       "    }\n",
       "</style>\n",
       "<table border=\"1\" class=\"dataframe\">\n",
       "  <thead>\n",
       "    <tr style=\"text-align: right;\">\n",
       "      <th></th>\n",
       "      <th>Unnamed: 0</th>\n",
       "      <th>Name</th>\n",
       "      <th>Sex</th>\n",
       "      <th>Date</th>\n",
       "      <th>Last Login Time</th>\n",
       "      <th>Salary</th>\n",
       "      <th>Bonus %</th>\n",
       "      <th>Senior Management</th>\n",
       "      <th>Team</th>\n",
       "    </tr>\n",
       "  </thead>\n",
       "  <tbody>\n",
       "    <tr>\n",
       "      <th>0</th>\n",
       "      <td>101</td>\n",
       "      <td>Aaron</td>\n",
       "      <td>Male</td>\n",
       "      <td>2/17/2012</td>\n",
       "      <td>10:20 AM</td>\n",
       "      <td>61602</td>\n",
       "      <td>11.849</td>\n",
       "      <td>True</td>\n",
       "      <td>Marketing</td>\n",
       "    </tr>\n",
       "    <tr>\n",
       "      <th>1</th>\n",
       "      <td>327</td>\n",
       "      <td>Aaron</td>\n",
       "      <td>Male</td>\n",
       "      <td>1/29/1994</td>\n",
       "      <td>6:48 PM</td>\n",
       "      <td>58755</td>\n",
       "      <td>5.097</td>\n",
       "      <td>True</td>\n",
       "      <td>Marketing</td>\n",
       "    </tr>\n",
       "    <tr>\n",
       "      <th>2</th>\n",
       "      <td>440</td>\n",
       "      <td>Aaron</td>\n",
       "      <td>Male</td>\n",
       "      <td>7/22/1990</td>\n",
       "      <td>2:53 PM</td>\n",
       "      <td>52119</td>\n",
       "      <td>11.343</td>\n",
       "      <td>True</td>\n",
       "      <td>Client Services</td>\n",
       "    </tr>\n",
       "    <tr>\n",
       "      <th>3</th>\n",
       "      <td>937</td>\n",
       "      <td>Aaron</td>\n",
       "      <td>NaN</td>\n",
       "      <td>1/22/1986</td>\n",
       "      <td>7:39 PM</td>\n",
       "      <td>63126</td>\n",
       "      <td>18.424</td>\n",
       "      <td>False</td>\n",
       "      <td>Client Services</td>\n",
       "    </tr>\n",
       "    <tr>\n",
       "      <th>4</th>\n",
       "      <td>137</td>\n",
       "      <td>Adam</td>\n",
       "      <td>Male</td>\n",
       "      <td>5/21/2011</td>\n",
       "      <td>1:45 AM</td>\n",
       "      <td>95327</td>\n",
       "      <td>15.120</td>\n",
       "      <td>False</td>\n",
       "      <td>Distribution</td>\n",
       "    </tr>\n",
       "  </tbody>\n",
       "</table>\n",
       "</div>"
      ],
      "text/plain": [
       "   Unnamed: 0   Name   Sex       Date Last Login Time  Salary  Bonus %  \\\n",
       "0         101  Aaron  Male  2/17/2012        10:20 AM   61602   11.849   \n",
       "1         327  Aaron  Male  1/29/1994         6:48 PM   58755    5.097   \n",
       "2         440  Aaron  Male  7/22/1990         2:53 PM   52119   11.343   \n",
       "3         937  Aaron   NaN  1/22/1986         7:39 PM   63126   18.424   \n",
       "4         137   Adam  Male  5/21/2011         1:45 AM   95327   15.120   \n",
       "\n",
       "  Senior Management             Team  \n",
       "0              True        Marketing  \n",
       "1              True        Marketing  \n",
       "2              True  Client Services  \n",
       "3             False  Client Services  \n",
       "4             False     Distribution  "
      ]
     },
     "execution_count": 3,
     "metadata": {},
     "output_type": "execute_result"
    }
   ],
   "source": [
    "# accessing dataset using pandas library\n",
    "df=pd.read_csv(\"Dataset.csv\")\n",
    "df.head()#displaying first 5 row of dataset"
   ]
  },
  {
   "cell_type": "code",
   "execution_count": 6,
   "metadata": {},
   "outputs": [
    {
     "data": {
      "text/plain": [
       "0"
      ]
     },
     "execution_count": 6,
     "metadata": {},
     "output_type": "execute_result"
    }
   ],
   "source": [
    "# Checking for duplicates values in whole dataset\n",
    "sum(df.duplicated())# gives total number of duplicate values in dataset"
   ]
  },
  {
   "cell_type": "code",
   "execution_count": 7,
   "metadata": {},
   "outputs": [
    {
     "data": {
      "text/plain": [
       "799"
      ]
     },
     "execution_count": 7,
     "metadata": {},
     "output_type": "execute_result"
    }
   ],
   "source": [
    "# Checking for duplicates values column wise\n",
    "sum(df['Name'].duplicated())# gives total number of duplicate values in first column"
   ]
  },
  {
   "cell_type": "markdown",
   "metadata": {},
   "source": [
    "## Removing duplicates"
   ]
  },
  {
   "cell_type": "code",
   "execution_count": 10,
   "metadata": {},
   "outputs": [],
   "source": [
    "# removing duplicate values using drop_duplicates()\n",
    "df['Name'].drop_duplicates(inplace=True)# inplace is True for permenant change in dataset"
   ]
  },
  {
   "cell_type": "code",
   "execution_count": 11,
   "metadata": {},
   "outputs": [
    {
     "data": {
      "text/plain": [
       "0"
      ]
     },
     "execution_count": 11,
     "metadata": {},
     "output_type": "execute_result"
    }
   ],
   "source": [
    "# Again Checking for duplicates values column wise\n",
    "sum(df['Name'].duplicated())# gives total number of duplicate values in first column"
   ]
  },
  {
   "cell_type": "code",
   "execution_count": null,
   "metadata": {},
   "outputs": [],
   "source": []
  },
  {
   "cell_type": "code",
   "execution_count": null,
   "metadata": {},
   "outputs": [],
   "source": []
  }
 ],
 "metadata": {
  "kernelspec": {
   "display_name": "Python 3",
   "language": "python",
   "name": "python3"
  },
  "language_info": {
   "codemirror_mode": {
    "name": "ipython",
    "version": 3
   },
   "file_extension": ".py",
   "mimetype": "text/x-python",
   "name": "python",
   "nbconvert_exporter": "python",
   "pygments_lexer": "ipython3",
   "version": "3.7.0"
  }
 },
 "nbformat": 4,
 "nbformat_minor": 2
}
